{
 "cells": [
  {
   "cell_type": "markdown",
   "metadata": {},
   "source": [
    "$$\n",
    "\\newcommand{\\mat}[1]{\\boldsymbol {#1}}\n",
    "\\newcommand{\\mattr}[1]{\\boldsymbol {#1}^\\top}\n",
    "\\newcommand{\\matinv}[1]{\\boldsymbol {#1}^{-1}}\n",
    "\\newcommand{\\vec}[1]{\\boldsymbol {#1}}\n",
    "\\newcommand{\\vectr}[1]{\\boldsymbol {#1}^\\top}\n",
    "\\newcommand{\\rvar}[1]{\\mathrm {#1}}\n",
    "\\newcommand{\\rvec}[1]{\\boldsymbol{\\mathrm{#1}}}\n",
    "\\newcommand{\\diag}{\\mathop{\\mathrm {diag}}}\n",
    "\\newcommand{\\set}[1]{\\mathbb {#1}}\n",
    "\\newcommand{\\norm}[1]{\\left\\lVert#1\\right\\rVert}\n",
    "\\newcommand{\\pderiv}[2]{\\frac{\\partial #1}{\\partial #2}}\n",
    "\\newcommand{\\bb}[1]{\\boldsymbol{#1}}\n",
    "$$\n",
    "# Part 3: Convolutional Architectures\n",
    "<a id=part3></a>"
   ]
  },
  {
   "cell_type": "markdown",
   "metadata": {},
   "source": [
    "In this part we will explore convolution networks and the effects of their architecture on accuracy. We'll implement a common block-based deep CNN pattern and we'll perform various experiments on it while varying the architecture. Then we'll implement our own custom architecture to see whether we can get high classification results on a large subset of CIFAR-10.\n",
    "\n",
    "Training will be performed on GPU."
   ]
  },
  {
   "cell_type": "code",
   "execution_count": 98,
   "metadata": {},
   "outputs": [
    {
     "name": "stdout",
     "output_type": "stream",
     "text": [
      "The autoreload extension is already loaded. To reload it, use:\n",
      "  %reload_ext autoreload\n"
     ]
    }
   ],
   "source": [
    "import os\n",
    "import re\n",
    "import sys\n",
    "import glob\n",
    "import numpy as np\n",
    "import matplotlib.pyplot as plt\n",
    "import unittest\n",
    "import torch\n",
    "import torchvision\n",
    "import torchvision.transforms as tvtf\n",
    "\n",
    "%matplotlib inline\n",
    "%load_ext autoreload\n",
    "%autoreload 2"
   ]
  },
  {
   "cell_type": "code",
   "execution_count": 99,
   "metadata": {},
   "outputs": [],
   "source": [
    "seed = 42\n",
    "device = torch.device('cuda' if torch.cuda.is_available() else 'cpu')\n",
    "plt.rcParams.update({'font.size': 12})\n",
    "test = unittest.TestCase()"
   ]
  },
  {
   "cell_type": "markdown",
   "metadata": {},
   "source": [
    "## Convolutional layers and networks\n",
    "<a id=part3_1></a>"
   ]
  },
  {
   "cell_type": "markdown",
   "metadata": {},
   "source": [
    "Convolutional layers are the most essential building blocks of the state of the art deep learning image classification models and also play an important role in many other tasks.\n",
    "As we saw in the tutorial, when applied to images, convolutional layers operate on and produce volumes (3D tensors)\n",
    "of activations.\n",
    "\n",
    "One way to think about them is as if the neurons are organized in a 3D grid,\n",
    "where neurons at the same depth share weights (represented here as colors).\n",
    "Contrary to fully connected (affine) layers, neurons in convolutional layers are **not** connected to each of\n",
    "the activations of the previous layer.\n",
    "Instead, each neuron is connected only to a small region of the input volume,\n",
    "for example a 5x5x$C_{\\mathrm{in}}$ slice (where $C_{\\mathrm{in}}$ is the input volume's depth).\n",
    "\n",
    "<img src=\"imgs/depthcol.jpeg\" />"
   ]
  },
  {
   "cell_type": "markdown",
   "metadata": {},
   "source": [
    "Another way to interpret convolutional layers for images is as a collection of 3D learnable filters,\n",
    "each of which operates on a small spatial region of the input volume.\n",
    "Each filter is convolved with the input volume (\"slides over it\"),\n",
    "and a dot product is computed at each location followed by a non-linearity which produces one activation.\n",
    "All these activations produce a 2D plane known as a **feature map**.\n",
    "Multiple feature maps (one for each filter) comprise the output volume.\n",
    "\n",
    "<img src=\"imgs/cnn_filters.png\" width=\"600\" />"
   ]
  },
  {
   "cell_type": "markdown",
   "metadata": {},
   "source": [
    "A crucial property of convolutional layers is their translation equivariance, i.e. shifting the input results in\n",
    "and equivalently shifted output.\n",
    "This produces the ability to detect features regardless of their spatial location in the input."
   ]
  },
  {
   "cell_type": "markdown",
   "metadata": {},
   "source": [
    "Convolutional network architectures usually follow a pattern basic repeating blocks: one or more convolution layers, each followed by a non-linearity (generally ReLU) and then a pooling layer to reduce spatial dimensions. Usually, the number of convolutional filters increases the deeper they are in the network.\n",
    "These layers are meant to extract features from the input.\n",
    "Then, one or more fully-connected layers is used to combine the extracted features into the required number of output class scores."
   ]
  },
  {
   "cell_type": "markdown",
   "metadata": {},
   "source": [
    "## Building convolutional networks with PyTorch\n",
    "<a id=part3_2></a>"
   ]
  },
  {
   "cell_type": "markdown",
   "metadata": {},
   "source": [
    "PyTorch provides all the basic building blocks needed for creating a convolutional arcitecture within the [`torch.nn`](https://pytorch.org/docs/stable/nn.html) package.\n",
    "Let's use them to create a basic convolutional network with the following architecture pattern:\n",
    "\n",
    "    [(CONV -> ReLU)*P -> MaxPool]*(N/P) -> (Linear -> ReLU)*M -> Linear\n",
    "\n",
    "Here $N$ is the total number of convolutional layers,\n",
    "$P$ specifies how many convolutions to perform before each pooling layer\n",
    "and $M$ specifies the number of hidden fully-connected layers before the final output layer."
   ]
  },
  {
   "cell_type": "markdown",
   "metadata": {},
   "source": [
    "**TODO**: Complete the implementaion of the `ConvClassifier` class in the `hw2/cnn.py` module.\n",
    "Use PyTorch's `nn.Conv2d` and `nn.MaxPool2d` for the convolution and pooling layers."
   ]
  },
  {
   "cell_type": "code",
   "execution_count": 100,
   "metadata": {},
   "outputs": [
    {
     "name": "stdout",
     "output_type": "stream",
     "text": [
      "ConvClassifier(\n",
      "  (feature_extractor): Sequential(\n",
      "    (0): Conv2d(3, 32, kernel_size=(3, 3), stride=(1, 1), padding=(1, 1))\n",
      "    (1): ReLU()\n",
      "    (2): Conv2d(32, 32, kernel_size=(3, 3), stride=(1, 1), padding=(1, 1))\n",
      "    (3): ReLU()\n",
      "    (4): MaxPool2d(kernel_size=2, stride=2, padding=0, dilation=1, ceil_mode=False)\n",
      "    (5): Conv2d(32, 32, kernel_size=(3, 3), stride=(1, 1), padding=(1, 1))\n",
      "    (6): ReLU()\n",
      "    (7): Conv2d(32, 32, kernel_size=(3, 3), stride=(1, 1), padding=(1, 1))\n",
      "    (8): ReLU()\n",
      "    (9): MaxPool2d(kernel_size=2, stride=2, padding=0, dilation=1, ceil_mode=False)\n",
      "  )\n",
      "  (classifier): Sequential(\n",
      "    (0): Linear(in_features=20000, out_features=100, bias=True)\n",
      "    (1): ReLU()\n",
      "    (2): Linear(in_features=100, out_features=100, bias=True)\n",
      "    (3): ReLU()\n",
      "    (4): Linear(in_features=100, out_features=10, bias=True)\n",
      "  )\n",
      ")\n",
      "out = tensor([[-0.0868, -0.3790, -0.4341, -0.1236, -0.2160,  0.1683,  0.4739,  0.0750,\n",
      "          0.1151, -0.1606]], grad_fn=<AddmmBackward>)\n"
     ]
    }
   ],
   "source": [
    "import hw2.cnn as cnn\n",
    "torch.manual_seed(seed)\n",
    "\n",
    "net = cnn.ConvClassifier((3,100,100), 10, channels=[32]*4, pool_every=2, hidden_dims=[100]*2)\n",
    "print(net)\n",
    "\n",
    "test_image = torch.randint(low=0, high=256, size=(3, 100, 100), dtype=torch.float).unsqueeze(0)\n",
    "test_out = net(test_image)\n",
    "print('out =', test_out)\n",
    "\n",
    "expected_out = torch.load('tests/assets/expected_conv_out.pt')\n",
    "test.assertLess(torch.norm(test_out - expected_out).item(), 1e-3)"
   ]
  },
  {
   "cell_type": "markdown",
   "metadata": {},
   "source": [
    "Let's load CIFAR-10 again to use as our dataset."
   ]
  },
  {
   "cell_type": "code",
   "execution_count": 101,
   "metadata": {},
   "outputs": [
    {
     "name": "stdout",
     "output_type": "stream",
     "text": [
      "Files already downloaded and verified\n",
      "Files already downloaded and verified\n",
      "Train: 50000 samples\n",
      "Test: 10000 samples\n",
      "input image size = torch.Size([3, 32, 32])\n"
     ]
    }
   ],
   "source": [
    "data_dir = os.path.expanduser('~/.pytorch-datasets')\n",
    "ds_train = torchvision.datasets.CIFAR10(root=data_dir, download=True, train=True, transform=tvtf.ToTensor())\n",
    "ds_test = torchvision.datasets.CIFAR10(root=data_dir, download=True, train=False, transform=tvtf.ToTensor())\n",
    "\n",
    "print(f'Train: {len(ds_train)} samples')\n",
    "print(f'Test: {len(ds_test)} samples')\n",
    "\n",
    "x0,_ = ds_train[0]\n",
    "in_size = x0.shape\n",
    "num_classes = 10\n",
    "print('input image size =', in_size)"
   ]
  },
  {
   "cell_type": "markdown",
   "metadata": {},
   "source": [
    "Now as usual, as a sanity test let's make sure we can overfit a tiny dataset with our model. But first we need to adapt our `Trainer` for PyTorch models."
   ]
  },
  {
   "cell_type": "markdown",
   "metadata": {},
   "source": [
    "**TODO**: Complete the implementaion of the `TorchTrainer` class in the `hw2/training.py` module."
   ]
  },
  {
   "cell_type": "code",
   "execution_count": 102,
   "metadata": {},
   "outputs": [
    {
     "name": "stdout",
     "output_type": "stream",
     "text": [
      "train_batch (Avg. Loss 2.371, Accuracy 6.0): 100%|███████████████████████████████████████████████████████████████████████████████████████████| 25/25 [00:00<00:00, 48.31it/s]\n",
      "train_batch (Avg. Loss 2.238, Accuracy 16.0): 100%|██████████████████████████████████████████████████████████████████████████████████████████| 25/25 [00:00<00:00, 39.99it/s]\n",
      "train_batch (Avg. Loss 2.131, Accuracy 22.0): 100%|██████████████████████████████████████████████████████████████████████████████████████████| 25/25 [00:00<00:00, 55.71it/s]\n",
      "train_batch (Avg. Loss 1.829, Accuracy 34.0): 100%|██████████████████████████████████████████████████████████████████████████████████████████| 25/25 [00:00<00:00, 55.76it/s]\n",
      "train_batch (Avg. Loss 1.050, Accuracy 64.0): 100%|██████████████████████████████████████████████████████████████████████████████████████████| 25/25 [00:00<00:00, 49.31it/s]\n",
      "train_batch (Avg. Loss 1.424, Accuracy 52.0): 100%|██████████████████████████████████████████████████████████████████████████████████████████| 25/25 [00:00<00:00, 40.14it/s]\n",
      "train_batch (Avg. Loss 1.125, Accuracy 66.0): 100%|██████████████████████████████████████████████████████████████████████████████████████████| 25/25 [00:00<00:00, 44.94it/s]\n",
      "train_batch (Avg. Loss 0.736, Accuracy 80.0): 100%|██████████████████████████████████████████████████████████████████████████████████████████| 25/25 [00:00<00:00, 57.88it/s]\n",
      "train_batch (Avg. Loss 0.104, Accuracy 96.0): 100%|██████████████████████████████████████████████████████████████████████████████████████████| 25/25 [00:00<00:00, 60.07it/s]\n",
      "train_batch (Avg. Loss 0.052, Accuracy 100.0): 100%|█████████████████████████████████████████████████████████████████████████████████████████| 25/25 [00:00<00:00, 52.61it/s]\n",
      "train_batch (Avg. Loss 0.002, Accuracy 100.0): 100%|█████████████████████████████████████████████████████████████████████████████████████████| 25/25 [00:00<00:00, 47.42it/s]\n",
      "train_batch (Avg. Loss 0.001, Accuracy 100.0): 100%|█████████████████████████████████████████████████████████████████████████████████████████| 25/25 [00:00<00:00, 47.72it/s]\n",
      "train_batch (Avg. Loss 0.001, Accuracy 100.0): 100%|█████████████████████████████████████████████████████████████████████████████████████████| 25/25 [00:00<00:00, 53.41it/s]\n",
      "train_batch (Avg. Loss 0.001, Accuracy 100.0): 100%|█████████████████████████████████████████████████████████████████████████████████████████| 25/25 [00:00<00:00, 53.62it/s]\n",
      "train_batch (Avg. Loss 0.001, Accuracy 100.0): 100%|█████████████████████████████████████████████████████████████████████████████████████████| 25/25 [00:00<00:00, 53.95it/s]\n"
     ]
    }
   ],
   "source": [
    "import hw2.training as training\n",
    "torch.manual_seed(seed)\n",
    "\n",
    "# Define a tiny part of the CIFAR-10 dataset to overfit it\n",
    "batch_size = 2\n",
    "max_batches = 25\n",
    "dl_train = torch.utils.data.DataLoader(ds_train, batch_size, shuffle=False)\n",
    "\n",
    "# Create model, loss and optimizer instances\n",
    "model = cnn.ConvClassifier(in_size, num_classes, channels=[32], pool_every=1, hidden_dims=[100])\n",
    "loss_fn = torch.nn.CrossEntropyLoss()\n",
    "optimizer = torch.optim.SGD(model.parameters(), lr=1e-2, momentum=0.9,)\n",
    "\n",
    "# Use TorchTrainer to run only the training loop a few times.\n",
    "trainer = training.TorchTrainer(model, loss_fn, optimizer, device)\n",
    "best_acc = 0\n",
    "for i in range(30):\n",
    "    res = trainer.train_epoch(dl_train, max_batches=max_batches, verbose=(i%2==0))\n",
    "    best_acc = res.accuracy if res.accuracy > best_acc else best_acc\n",
    "    \n",
    "# Test overfitting\n",
    "test.assertGreaterEqual(best_acc, 95)"
   ]
  },
  {
   "cell_type": "markdown",
   "metadata": {},
   "source": [
    "### Residual Networks"
   ]
  },
  {
   "cell_type": "markdown",
   "metadata": {},
   "source": [
    "A very common addition to the basic convolutional architecture described above are **shortcut connections**.\n",
    "First proposed by [He et al. (2016)](https://www.cv-foundation.org/openaccess/content_cvpr_2016/papers/He_Deep_Residual_Learning_CVPR_2016_paper.pdf), this simple addition has been shown to be crucial\n",
    "ingredient in order to achieve effective learning with very deep networks.\n",
    "Virtually all state of the art image classification models from recent years use this technique."
   ]
  },
  {
   "cell_type": "markdown",
   "metadata": {},
   "source": [
    "The idea is to add an shortcut, or skip, around every two or more convolutional layers:\n",
    "\n",
    "<img src=\"imgs/resnet_block2.png\" width=\"700\" />\n",
    "\n",
    "This adds an easy way for the network to learn identity mappings: set the weight values to be very small.\n",
    "The consequence is that the convolutional layers to learn a **residual** mapping, i.e. some delta that is applied\n",
    "to the identity map, instead of actually learning a completely new mapping from scratch."
   ]
  },
  {
   "cell_type": "markdown",
   "metadata": {},
   "source": [
    "Lets start by implementing a general residual block, representing a structure similar to the above diagrams.\n",
    "Our residual block will be composed of:\n",
    "- A \"main path\" with some number of convolutional layers with ReLU between them. Optionally, we'll also apply dropout and  batch normalization layers (in this order) between the convolutions, before the ReLU.\n",
    "- A \"shortcut path\" implementing an identity mapping around the main path. In case of a different number of input/output channels, the shortcut path should contain an additional `1x1` convolution to project the channel dimension.\n",
    "- The sum of the main and shortcut paths output is passed though a ReLU and returned."
   ]
  },
  {
   "cell_type": "markdown",
   "metadata": {},
   "source": [
    "**TODO**: Complete the implementation of the `ResidualBlock`'s `__init__()` method in the `hw2/cnn.py` module."
   ]
  },
  {
   "cell_type": "code",
   "execution_count": 103,
   "metadata": {},
   "outputs": [
    {
     "name": "stdout",
     "output_type": "stream",
     "text": [
      "ResidualBlock(\n",
      "  (main_path): Sequential(\n",
      "    (0): Conv2d(3, 6, kernel_size=(3, 3), stride=(1, 1), padding=(1, 1))\n",
      "    (1): Dropout2d(p=0.2, inplace=False)\n",
      "    (2): BatchNorm2d(6, eps=1e-05, momentum=0.1, affine=True, track_running_stats=True)\n",
      "    (3): ReLU()\n",
      "    (4): Conv2d(6, 4, kernel_size=(5, 5), stride=(1, 1), padding=(2, 2))\n",
      "    (5): Dropout2d(p=0.2, inplace=False)\n",
      "    (6): BatchNorm2d(4, eps=1e-05, momentum=0.1, affine=True, track_running_stats=True)\n",
      "    (7): ReLU()\n",
      "    (8): Conv2d(4, 6, kernel_size=(3, 3), stride=(1, 1), padding=(1, 1))\n",
      "    (9): Dropout2d(p=0.2, inplace=False)\n",
      "    (10): BatchNorm2d(6, eps=1e-05, momentum=0.1, affine=True, track_running_stats=True)\n",
      "    (11): ReLU()\n",
      "    (12): Conv2d(6, 4, kernel_size=(5, 5), stride=(1, 1), padding=(2, 2))\n",
      "  )\n",
      "  (shortcut_path): Sequential(\n",
      "    (0): Conv2d(3, 4, kernel_size=(1, 1), stride=(1, 1), bias=False)\n",
      "  )\n",
      ")\n",
      "out shape=torch.Size([1, 4, 32, 32])\n"
     ]
    }
   ],
   "source": [
    "torch.manual_seed(seed)\n",
    "\n",
    "resblock = cnn.ResidualBlock(\n",
    "    in_channels=3, channels=[6, 4]*2, kernel_sizes=[3, 5]*2, batchnorm=True, dropout=0.2\n",
    ")\n",
    "\n",
    "print(resblock)\n",
    "test_out = resblock(torch.zeros(1, 3, 32, 32))\n",
    "print(f'out shape={test_out.shape}')\n",
    "\n",
    "expected_out = torch.load('tests/assets/expected_resblock_out.pt')\n",
    "test.assertLess(torch.norm(test_out - expected_out).item(), 1e-3)"
   ]
  },
  {
   "cell_type": "markdown",
   "metadata": {},
   "source": [
    "Now, based on the `ResidualBlock`, we'll implement our own variation of a residual network (ResNet),\n",
    "with the following architecture:\n",
    "\n",
    "    [-> (CONV -> ReLU)*P -> MaxPool]*(N/P) -> (Linear -> ReLU)*M -> Linear\n",
    "     \\------- SKIP ------/\n",
    "     \n",
    "Note that $N$, $P$ and $M$ are as before, however now $P$ also controls the number of convolutional layers to add a skip-connection to."
   ]
  },
  {
   "cell_type": "markdown",
   "metadata": {},
   "source": [
    "**TODO**: Complete the implementation of the `ResNetClassifier` class in the `hw2/cnn.py` module.\n",
    "You should use `ResidualBlock`s to group together every $P$ convolutional layers."
   ]
  },
  {
   "cell_type": "code",
   "execution_count": 105,
   "metadata": {},
   "outputs": [
    {
     "name": "stdout",
     "output_type": "stream",
     "text": [
      "ResNetClassifier(\n",
      "  (feature_extractor): Sequential(\n",
      "    (0): ResidualBlock(\n",
      "      (main_path): Sequential(\n",
      "        (0): Conv2d(3, 32, kernel_size=(3, 3), stride=(1, 1), padding=(1, 1))\n",
      "        (1): ReLU()\n",
      "        (2): Conv2d(32, 64, kernel_size=(3, 3), stride=(1, 1), padding=(1, 1))\n",
      "        (3): ReLU()\n",
      "        (4): Conv2d(64, 32, kernel_size=(3, 3), stride=(1, 1), padding=(1, 1))\n",
      "        (5): ReLU()\n",
      "        (6): Conv2d(32, 64, kernel_size=(3, 3), stride=(1, 1), padding=(1, 1))\n",
      "      )\n",
      "      (shortcut_path): Sequential(\n",
      "        (0): Conv2d(3, 64, kernel_size=(1, 1), stride=(1, 1), bias=False)\n",
      "      )\n",
      "    )\n",
      "    (1): MaxPool2d(kernel_size=2, stride=2, padding=0, dilation=1, ceil_mode=False)\n",
      "    (2): ResidualBlock(\n",
      "      (main_path): Sequential(\n",
      "        (0): Conv2d(64, 32, kernel_size=(3, 3), stride=(1, 1), padding=(1, 1))\n",
      "        (1): ReLU()\n",
      "        (2): Conv2d(32, 64, kernel_size=(3, 3), stride=(1, 1), padding=(1, 1))\n",
      "      )\n",
      "      (shortcut_path): Sequential()\n",
      "    )\n",
      "  )\n",
      "  (classifier): Sequential(\n",
      "    (0): Linear(in_features=160000, out_features=100, bias=True)\n",
      "    (1): ReLU()\n",
      "    (2): Linear(in_features=100, out_features=100, bias=True)\n",
      "    (3): ReLU()\n",
      "    (4): Linear(in_features=100, out_features=10, bias=True)\n",
      "  )\n",
      ")\n",
      "out = tensor([[ 0.7512, -0.5055, 12.0261,  3.6577, -1.6581, 11.0309,  6.6823,  1.1270,\n",
      "          6.9933,  4.3001]], grad_fn=<AddmmBackward>)\n"
     ]
    }
   ],
   "source": [
    "torch.manual_seed(seed)\n",
    "\n",
    "net = cnn.ResNetClassifier(\n",
    "    in_size=(3,100,100), out_classes=10, channels=[32, 64]*3, pool_every=4, hidden_dims=[100]*2\n",
    ")\n",
    "print(net)\n",
    "\n",
    "test_image = torch.randint(low=0, high=256, size=(3, 100, 100), dtype=torch.float).unsqueeze(0)\n",
    "test_out = net(test_image)\n",
    "print('out =', test_out)\n",
    "\n",
    "expected_out = torch.load('tests/assets/expected_resnet_out.pt')\n",
    "test.assertLess(torch.norm(test_out - expected_out).item(), 1e-3)"
   ]
  },
  {
   "cell_type": "markdown",
   "metadata": {},
   "source": [
    "## Experimenting with model architectures\n",
    "<a id=part3_3></a>"
   ]
  },
  {
   "cell_type": "markdown",
   "metadata": {},
   "source": [
    "You will now perform a series of experiments that train various model configurations on a much larger part of the CIFAR-10 dataset.\n",
    "\n",
    "To perform the experiments, you'll need to use a machine with a GPU since training time might be too long otherwise.\n"
   ]
  },
  {
   "cell_type": "markdown",
   "metadata": {},
   "source": [
    "### Note about running on GPUs"
   ]
  },
  {
   "cell_type": "markdown",
   "metadata": {},
   "source": [
    "Here's an example of running a forward pass on the GPU\n",
    "(assuming you're running this notebook on a GPU-enabled machine)."
   ]
  },
  {
   "cell_type": "code",
   "execution_count": 106,
   "metadata": {},
   "outputs": [],
   "source": [
    "net = net.to(device)\n",
    "test_image = test_image.to(device)\n",
    "test_out = net(test_image)"
   ]
  },
  {
   "cell_type": "markdown",
   "metadata": {},
   "source": [
    "Notice how we called `.to(device)` on **both** the model and the input tensor.\n",
    "Here the `device` is a `torch.device` object that we created above. If an nvidia GPU is available on the machine you're running this on, the `device` will be `'cuda'`. When you run `.to(device)` on a model, it recursively goes over all the model parameter tensors and copies their memory to the GPU. Similarly, calling `.to(device)` on the input image also copies it.\n",
    "\n",
    "In order to train on a GPU, you need to make sure to move **all** your tensors to it. You'll get errors if you try to mix CPU and GPU tensors in a computation."
   ]
  },
  {
   "cell_type": "code",
   "execution_count": 107,
   "metadata": {},
   "outputs": [
    {
     "name": "stdout",
     "output_type": "stream",
     "text": [
      "This notebook is running with device=cpu\n",
      "The model parameter tensors are also on device=cpu\n",
      "The test image is also on device=cpu\n",
      "The output is therefore also on device=cpu\n"
     ]
    }
   ],
   "source": [
    "print(f'This notebook is running with device={device}')\n",
    "print(f'The model parameter tensors are also on device={next(net.parameters()).device}')\n",
    "print(f'The test image is also on device={test_image.device}')\n",
    "print(f'The output is therefore also on device={test_out.device}')"
   ]
  },
  {
   "cell_type": "markdown",
   "metadata": {},
   "source": [
    "### Notes on using course servers\n",
    "\n",
    "First, please read the [course servers guide](https://vistalab-technion.github.io/cs236781/assignments/hpc-servers) carefully.\n",
    "\n",
    "To run the experiments on the course servers, you can use the `py-sbatch.sh` script directly to perform a single experiment run in batch mode (since it runs python once), or use the `srun` command to do a single run in interactive mode. For example, running a single run of experiment 1 interactively (after `conda activate` of course):\n",
    "\n",
    "```shell\n",
    "srun -c 2 --gres=gpu:1 --pty python -m hw2.experiments run-exp -n test -K 32 64 -L 2 -P 2 -H 100\n",
    "```\n",
    "\n",
    "To perform multiple runs in batch mode with `sbatch` (e.g. for running all the configurations of an experiments), you can create your own script based on `py-sbatch.sh` and invoke whatever commands you need within it.\n",
    "\n",
    "Please don't request more than **2 CPU** cores and **1 GPU** device for your runs. The code won't be able to utilize more than that anyway, so you'll see no performance gain if you do. It will only cause delays for other students using the servers."
   ]
  },
  {
   "cell_type": "markdown",
   "metadata": {},
   "source": [
    "### General notes for running experiments\n",
    "\n",
    "- You can run the experiments on a different machine (e.g. the course servers) and copy the results (files)\n",
    "  to the `results` folder on your local machine.\n",
    "  This notebook will only display the results, not run the actual experiment code (except for a demo run).\n",
    "- It's important to give each experiment run a name as specified by the notebook instructions later on.\n",
    "  Each run has a `run_name` parameter that will also be the base name of the results file which this \n",
    "  notebook will expect to load.\n",
    "- You will implement the code to run the experiments in the `hw2/experiments.py` module.\n",
    "  This module has a CLI parser so that you can invoke it as a script and pass in all the\n",
    "  configuration parameters for a single experiment run.\n",
    "- You should use `python -m hw2.experiments run-exp` to run an experiment, and **not**\n",
    "  `python hw2/experiments.py run-exp`, regardless of how/where you run it."
   ]
  },
  {
   "cell_type": "markdown",
   "metadata": {},
   "source": [
    "### Experiment 1: Network depth and number of filters"
   ]
  },
  {
   "cell_type": "markdown",
   "metadata": {},
   "source": [
    "In this part we will test some different architecture configurations based on our `ConvClassifier` and `ResNetClassifier`.\n",
    "Specifically, we want to try different depths and number of features to see the effects these parameters have on the model's performance.\n",
    "\n",
    "To do this, we'll define two extra hyperparameters for our model, `K` (`filters_per_layer`) and `L` (`layers_per_block`).\n",
    "- `K` is a list, containing the number of filters we want to have in our conv layers.\n",
    "- `L` is the number of consecutive layers with the same number of filters to use.\n",
    "\n",
    "For example, if `K=[32, 64]` and `L=2` it means we want two conv layers with 32 filters followed by two conv layers with 64 filters. If we also use `pool_every=3`, the feature-extraction part of our model will be:\n",
    "\n",
    "    Conv(X,32)->ReLu->Conv(32,32)->ReLU->Conv(32,64)->ReLU->MaxPool->Conv(64,64)->ReLU\n",
    "    \n",
    "We'll try various values of the `K` and `L` parameters in combination and see how each architecture trains. **All other hyperparameters are up to you**, including the choice of the optimization algorithm, the learning rate, regularization and architecture hyperparams such as `pool_every` and `hidden_dims`. Note that you should select the `pool_every` parameter wisely per experiment so that you don't end up with zero-width feature maps.\n",
    "\n",
    "You can try some short manual runs to determine some good values for the hyperparameters or implement cross-validation to do it. However, the **dataset size** you test on should be large. Use at least ~20000 training images and ~6000 validation images.\n",
    "\n",
    "The important thing is that you state what you used, how you decided on it, and explain your results based on that."
   ]
  },
  {
   "cell_type": "markdown",
   "metadata": {},
   "source": [
    "First we need to write some code to run the experiment.\n",
    "\n",
    "**TODO**:\n",
    "1. Implement the `run_experiment()` function in the `hw2/experiments.py` module.\n",
    "1. If you haven't done so already, it would be an excellent idea to implement the **early stopping** feature of the `Trainer` class.\n",
    "\n",
    "The following block tests that your implementation works. It's also meant to show you that each experiment run creates a result file containing the parameters to reproduce and the `FitResult` object for plotting."
   ]
  },
  {
   "cell_type": "code",
   "execution_count": 113,
   "metadata": {},
   "outputs": [
    {
     "name": "stdout",
     "output_type": "stream",
     "text": [
      "Files already downloaded and verified\n",
      "Files already downloaded and verified\n",
      "--- EPOCH 1/10 ---\n",
      "train_batch (Avg. Loss 2.308, Accuracy 9.0): 100%|███████████████████████████████████████████████████████████████████████████████████████████| 10/10 [00:02<00:00,  3.83it/s]\n",
      "test_batch (Avg. Loss 2.298, Accuracy 10.8): 100%|███████████████████████████████████████████████████████████████████████████████████████████| 10/10 [00:00<00:00, 36.47it/s]\n",
      "--- EPOCH 2/10 ---\n",
      "train_batch (Avg. Loss 2.307, Accuracy 9.0): 100%|███████████████████████████████████████████████████████████████████████████████████████████| 10/10 [00:02<00:00,  3.92it/s]\n",
      "test_batch (Avg. Loss 2.298, Accuracy 10.8): 100%|███████████████████████████████████████████████████████████████████████████████████████████| 10/10 [00:00<00:00, 33.84it/s]\n",
      "--- EPOCH 3/10 ---\n",
      "train_batch (Avg. Loss 2.306, Accuracy 9.4): 100%|███████████████████████████████████████████████████████████████████████████████████████████| 10/10 [00:02<00:00,  3.88it/s]\n",
      "test_batch (Avg. Loss 2.298, Accuracy 10.8): 100%|███████████████████████████████████████████████████████████████████████████████████████████| 10/10 [00:00<00:00, 38.33it/s]\n",
      "--- EPOCH 4/10 ---\n",
      "train_batch (Avg. Loss 2.305, Accuracy 9.4): 100%|███████████████████████████████████████████████████████████████████████████████████████████| 10/10 [00:02<00:00,  3.97it/s]\n",
      "test_batch (Avg. Loss 2.298, Accuracy 10.0): 100%|███████████████████████████████████████████████████████████████████████████████████████████| 10/10 [00:00<00:00, 34.11it/s]\n",
      "--- EPOCH 5/10 ---\n",
      "train_batch (Avg. Loss 2.304, Accuracy 9.8): 100%|███████████████████████████████████████████████████████████████████████████████████████████| 10/10 [00:02<00:00,  3.95it/s]\n",
      "test_batch (Avg. Loss 2.298, Accuracy 10.8): 100%|███████████████████████████████████████████████████████████████████████████████████████████| 10/10 [00:00<00:00, 39.62it/s]\n",
      "--- EPOCH 6/10 ---\n",
      "train_batch (Avg. Loss 2.303, Accuracy 10.0): 100%|██████████████████████████████████████████████████████████████████████████████████████████| 10/10 [00:02<00:00,  3.92it/s]\n",
      "test_batch (Avg. Loss 2.298, Accuracy 10.0): 100%|███████████████████████████████████████████████████████████████████████████████████████████| 10/10 [00:00<00:00, 34.75it/s]\n",
      "--- EPOCH 7/10 ---\n",
      "train_batch (Avg. Loss 2.302, Accuracy 10.0): 100%|██████████████████████████████████████████████████████████████████████████████████████████| 10/10 [00:02<00:00,  3.82it/s]\n",
      "test_batch (Avg. Loss 2.298, Accuracy 11.7): 100%|███████████████████████████████████████████████████████████████████████████████████████████| 10/10 [00:00<00:00, 38.09it/s]\n",
      "--- EPOCH 8/10 ---\n",
      "train_batch (Avg. Loss 2.301, Accuracy 9.8): 100%|███████████████████████████████████████████████████████████████████████████████████████████| 10/10 [00:02<00:00,  3.91it/s]\n",
      "test_batch (Avg. Loss 2.298, Accuracy 13.3): 100%|███████████████████████████████████████████████████████████████████████████████████████████| 10/10 [00:00<00:00, 40.17it/s]\n",
      "*** Output file ./results\\test_run_L1_K32-64.json written\n",
      "experiment config:  {'run_name': 'test_run', 'out_dir': './results', 'seed': 42, 'device': None, 'bs_train': 50, 'bs_test': 12, 'batches': 10, 'epochs': 10, 'early_stopping': 5, 'checkpoints': None, 'lr': 0.001, 'reg': 0.001, 'filters_per_layer': [32, 64], 'layers_per_block': 1, 'pool_every': 1, 'hidden_dims': [100], 'model_type': 'resnet', 'kw': {}}\n"
     ]
    },
    {
     "data": {
      "image/png": "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\n",
      "text/plain": [
       "<Figure size 1152x720 with 4 Axes>"
      ]
     },
     "metadata": {
      "needs_background": "light"
     },
     "output_type": "display_data"
    }
   ],
   "source": [
    "import hw2.experiments as experiments\n",
    "from hw2.experiments import load_experiment\n",
    "from cs236781.plot import plot_fit\n",
    "\n",
    "# Test experiment1 implementation on a few data samples and with a small model\n",
    "experiments.run_experiment(\n",
    "    'test_run', seed=seed, bs_train=50, batches=10, epochs=10, early_stopping=5,\n",
    "    filters_per_layer=[32,64], layers_per_block=1, pool_every=1, hidden_dims=[100],\n",
    "    model_type='resnet',\n",
    ")\n",
    "\n",
    "# There should now be a file 'test_run.json' in your `results/` folder.\n",
    "# We can use it to load the results of the experiment.\n",
    "cfg, fit_res = load_experiment('results/test_run_L1_K32-64.json')\n",
    "_, _ = plot_fit(fit_res)\n",
    "\n",
    "# And `cfg` contains the exact parameters to reproduce it\n",
    "print('experiment config: ', cfg)"
   ]
  },
  {
   "cell_type": "markdown",
   "metadata": {},
   "source": [
    "We'll use the following function to load multiple experiment results and plot them together."
   ]
  },
  {
   "cell_type": "code",
<<<<<<< HEAD
   "execution_count": 114,
=======
   "execution_count": 32,
>>>>>>> 90ed1854a448ef34ee419be4adb82dc069b84aff
   "metadata": {},
   "outputs": [],
   "source": [
    "def plot_exp_results(filename_pattern, results_dir='results'):\n",
    "    fig = None\n",
    "    result_files = glob.glob(os.path.join(results_dir, filename_pattern))\n",
    "    result_files.sort()\n",
    "    if len(result_files) == 0:\n",
    "        print(f'No results found for pattern {filename_pattern}.', file=sys.stderr)\n",
    "        return\n",
    "    for filepath in result_files:\n",
    "        m = re.match('exp\\d_(\\d_)?(.*)\\.json', os.path.basename(filepath))\n",
    "        cfg, fit_res = load_experiment(filepath)\n",
    "        fig, axes = plot_fit(fit_res, fig, legend=m[2],log_loss=True)\n",
    "    del cfg['filters_per_layer']\n",
    "    del cfg['layers_per_block']\n",
    "    print('common config: ', cfg)"
   ]
  },
  {
   "cell_type": "markdown",
   "metadata": {},
   "source": [
    "#### Experiment 1.1: Varying the network depth (`L`)"
   ]
  },
  {
   "cell_type": "markdown",
   "metadata": {},
   "source": [
    "First, we'll test the effect of the network depth on training.\n",
    "\n",
    "**Configuratons**:\n",
    "- `K=32` fixed, with `L=2,4,8,16` varying per run\n",
    "- `K=64` fixed, with `L=2,4,8,16` varying per run\n",
    "\n",
    "So 8 different runs in total.\n",
    "\n",
    "**Naming runs**:\n",
    "Each run should be named `exp1_1_L{}_K{}` where the braces are placeholders for the values. For example, the first run should be named `exp1_1_L2_K32`. "
   ]
  },
  {
   "cell_type": "markdown",
   "metadata": {},
   "source": [
    "**TODO**: Run the experiment on the above configuration with the `ConvClassifier` model. Make sure the result file names are as expected. Use the following blocks to display the results."
   ]
  },
  {
   "cell_type": "code",
<<<<<<< HEAD
   "execution_count": null,
=======
   "execution_count": 33,
>>>>>>> 90ed1854a448ef34ee419be4adb82dc069b84aff
   "metadata": {},
   "outputs": [],
   "source": [
    "plot_exp_results('exp1_1_L*_K32*.json')"
   ]
  },
  {
   "cell_type": "code",
   "execution_count": 35,
   "metadata": {},
   "outputs": [
    {
     "ename": "TypeError",
     "evalue": "'NoneType' object is not subscriptable",
     "output_type": "error",
     "traceback": [
      "\u001b[1;31m---------------------------------------------------------------------------\u001b[0m",
      "\u001b[1;31mTypeError\u001b[0m                                 Traceback (most recent call last)",
      "\u001b[1;32m<ipython-input-35-aed8059af598>\u001b[0m in \u001b[0;36m<module>\u001b[1;34m\u001b[0m\n\u001b[1;32m----> 1\u001b[1;33m \u001b[0mplot_exp_results\u001b[0m\u001b[1;33m(\u001b[0m\u001b[1;34m'test_run_L*_K32*.json'\u001b[0m\u001b[1;33m)\u001b[0m\u001b[1;33m\u001b[0m\u001b[1;33m\u001b[0m\u001b[0m\n\u001b[0m",
      "\u001b[1;32m<ipython-input-32-86324a873fe1>\u001b[0m in \u001b[0;36mplot_exp_results\u001b[1;34m(filename_pattern, results_dir)\u001b[0m\n\u001b[0;32m      9\u001b[0m         \u001b[0mm\u001b[0m \u001b[1;33m=\u001b[0m \u001b[0mre\u001b[0m\u001b[1;33m.\u001b[0m\u001b[0mmatch\u001b[0m\u001b[1;33m(\u001b[0m\u001b[1;34m'exp\\d_(\\d_)?(.*)\\.json'\u001b[0m\u001b[1;33m,\u001b[0m \u001b[0mos\u001b[0m\u001b[1;33m.\u001b[0m\u001b[0mpath\u001b[0m\u001b[1;33m.\u001b[0m\u001b[0mbasename\u001b[0m\u001b[1;33m(\u001b[0m\u001b[0mfilepath\u001b[0m\u001b[1;33m)\u001b[0m\u001b[1;33m)\u001b[0m\u001b[1;33m\u001b[0m\u001b[1;33m\u001b[0m\u001b[0m\n\u001b[0;32m     10\u001b[0m         \u001b[0mcfg\u001b[0m\u001b[1;33m,\u001b[0m \u001b[0mfit_res\u001b[0m \u001b[1;33m=\u001b[0m \u001b[0mload_experiment\u001b[0m\u001b[1;33m(\u001b[0m\u001b[0mfilepath\u001b[0m\u001b[1;33m)\u001b[0m\u001b[1;33m\u001b[0m\u001b[1;33m\u001b[0m\u001b[0m\n\u001b[1;32m---> 11\u001b[1;33m         \u001b[0mfig\u001b[0m\u001b[1;33m,\u001b[0m \u001b[0maxes\u001b[0m \u001b[1;33m=\u001b[0m \u001b[0mplot_fit\u001b[0m\u001b[1;33m(\u001b[0m\u001b[0mfit_res\u001b[0m\u001b[1;33m,\u001b[0m \u001b[0mfig\u001b[0m\u001b[1;33m,\u001b[0m \u001b[0mlegend\u001b[0m\u001b[1;33m=\u001b[0m\u001b[0mm\u001b[0m\u001b[1;33m[\u001b[0m\u001b[1;36m2\u001b[0m\u001b[1;33m]\u001b[0m\u001b[1;33m,\u001b[0m\u001b[0mlog_loss\u001b[0m\u001b[1;33m=\u001b[0m\u001b[1;32mTrue\u001b[0m\u001b[1;33m)\u001b[0m\u001b[1;33m\u001b[0m\u001b[1;33m\u001b[0m\u001b[0m\n\u001b[0m\u001b[0;32m     12\u001b[0m     \u001b[1;32mdel\u001b[0m \u001b[0mcfg\u001b[0m\u001b[1;33m[\u001b[0m\u001b[1;34m'filters_per_layer'\u001b[0m\u001b[1;33m]\u001b[0m\u001b[1;33m\u001b[0m\u001b[1;33m\u001b[0m\u001b[0m\n\u001b[0;32m     13\u001b[0m     \u001b[1;32mdel\u001b[0m \u001b[0mcfg\u001b[0m\u001b[1;33m[\u001b[0m\u001b[1;34m'layers_per_block'\u001b[0m\u001b[1;33m]\u001b[0m\u001b[1;33m\u001b[0m\u001b[1;33m\u001b[0m\u001b[0m\n",
      "\u001b[1;31mTypeError\u001b[0m: 'NoneType' object is not subscriptable"
     ]
    }
   ],
   "source": [
    "plot_exp_results('test_run_L*_K32*.json')"
   ]
  },
  {
   "cell_type": "code",
   "execution_count": null,
   "metadata": {},
   "outputs": [],
   "source": [
    "plot_exp_results('exp1_1_L*_K64*.json')"
   ]
  },
  {
   "cell_type": "markdown",
   "metadata": {},
   "source": [
    "#### Experiment 1.2: Varying the number of filters per layer (`K`)"
   ]
  },
  {
   "cell_type": "markdown",
   "metadata": {},
   "source": [
    "Now we'll test the effect of the number of convolutional filters in each layer.\n",
    "\n",
    "**Configuratons**:\n",
    "- `L=2` fixed, with `K=[32],[64],[128],[256]` varying per run.\n",
    "- `L=4` fixed, with `K=[32],[64],[128],[256]` varying per run.\n",
    "- `L=8` fixed, with `K=[32],[64],[128],[256]` varying per run.\n",
    "\n",
    "So 12 different runs in total. To clarify, each run `K` takes the value of a list with a single element.\n",
    "\n",
    "**Naming runs**:\n",
    "Each run should be named `exp1_2_L{}_K{}` where the braces are placeholders for the values. For example, the first run should be named `exp1_2_L2_K32`. "
   ]
  },
  {
   "cell_type": "markdown",
   "metadata": {},
   "source": [
    "**TODO**: Run the experiment on the above configuration with the `ConvClassifier` model. Make sure the result file names are as expected. Use the following blocks to display the results."
   ]
  },
  {
   "cell_type": "code",
   "execution_count": null,
   "metadata": {},
   "outputs": [],
   "source": [
    "plot_exp_results('exp1_2_L2*.json')"
   ]
  },
  {
   "cell_type": "code",
   "execution_count": null,
   "metadata": {},
   "outputs": [],
   "source": [
    "plot_exp_results('exp1_2_L4*.json')"
   ]
  },
  {
   "cell_type": "code",
   "execution_count": null,
   "metadata": {},
   "outputs": [],
   "source": [
    "plot_exp_results('exp1_2_L8*.json')"
   ]
  },
  {
   "cell_type": "markdown",
   "metadata": {},
   "source": [
    "#### Experiment 1.3: Varying both the number of filters (`K`) and network depth (`L`)"
   ]
  },
  {
   "cell_type": "markdown",
   "metadata": {},
   "source": [
    "Now we'll test the effect of the number of convolutional filters in each layer.\n",
    "\n",
    "**Configuratons**:\n",
    "- `K=[64, 128, 256]` fixed with `L=1,2,3,4` varying per run.\n",
    "\n",
    "So 4 different runs in total. To clarify, each run `K` takes the value of an array with a three elements.\n",
    "\n",
    "**Naming runs**:\n",
    "Each run should be named `exp1_3_L{}_K{}-{}-{}` where the braces are placeholders for the values. For example, the first run should be named `exp1_3_L1_K64-128-256`. "
   ]
  },
  {
   "cell_type": "markdown",
   "metadata": {},
   "source": [
    "**TODO**: Run the experiment on the above configuration  with the `ConvClassifier` model. Make sure the result file names are as expected. Use the following blocks to display the results."
   ]
  },
  {
   "cell_type": "code",
   "execution_count": null,
   "metadata": {},
   "outputs": [],
   "source": [
    "plot_exp_results('exp1_3*.json')"
   ]
  },
  {
   "cell_type": "markdown",
   "metadata": {},
   "source": [
    "#### Experiment 1.4: Adding depth with Residual Networks"
   ]
  },
  {
   "cell_type": "markdown",
   "metadata": {},
   "source": [
    "Now we'll test the effect of skip connections on the training and performance.\n",
    "\n",
    "**Configuratons**:\n",
    "- `K=[32]` fixed with `L=8,16,32` varying per run.\n",
    "- `K=[64, 128, 256]` fixed with `L=2,4,8` varying per run.\n",
    "\n",
    "So 6 different runs in total.\n",
    "\n",
    "**Naming runs**:\n",
    "Each run should be named `exp1_4_L{}_K{}-{}-{}` where the braces are placeholders for the values."
   ]
  },
  {
   "cell_type": "markdown",
   "metadata": {},
   "source": [
    "**TODO**: Run the experiment on the above configuration with the `ResNetClassifier` model. Make sure the result file names are as expected. Use the following blocks to display the results."
   ]
  },
  {
   "cell_type": "code",
   "execution_count": null,
   "metadata": {},
   "outputs": [],
   "source": [
    "plot_exp_results('exp1_4_L*_K32.json')"
   ]
  },
  {
   "cell_type": "code",
   "execution_count": null,
   "metadata": {},
   "outputs": [],
   "source": [
    "plot_exp_results('exp1_4_L*_K64*.json')"
   ]
  },
  {
   "cell_type": "markdown",
   "metadata": {},
   "source": [
    "### Experiment 2: Custom network architecture"
   ]
  },
  {
   "cell_type": "markdown",
   "metadata": {},
   "source": [
    "In this part you will create your own custom network architecture based on the `ConvClassifier` you've implemented.\n",
    "\n",
    "Try to overcome some of the limitations your experiment 1 results, using what you learned in the course.\n",
    "\n",
    "You are free to add whatever you like to the model, for instance \n",
    "- Batch normalization\n",
    "- Dropout layers\n",
    "- Skip connections\n",
    "- Change kernel spatial sizes and strides\n",
    "- Custom blocks or ideas from known architectures (e.g. inception module)\n",
    "\n",
    "Just make sure to keep the model's `init` API identical (or maybe just add parameters)."
   ]
  },
  {
   "cell_type": "markdown",
   "metadata": {},
   "source": [
    "**TODO**: Implement your custom architecture in the `YourCodeNet` class within the `hw2/cnn.py` module."
   ]
  },
  {
   "cell_type": "code",
   "execution_count": null,
   "metadata": {},
   "outputs": [],
   "source": [
    "net = cnn.YourCodeNet((3,100,100), 10, channels=[32]*4, pool_every=2, hidden_dims=[100]*2)\n",
    "print(net)\n",
    "\n",
    "test_image = torch.randint(low=0, high=256, size=(3, 100, 100), dtype=torch.float).unsqueeze(0)\n",
    "test_out = net(test_image)\n",
    "print('out =', test_out)"
   ]
  },
  {
   "cell_type": "markdown",
   "metadata": {},
   "source": [
    "#### Experiment 2 Configuration"
   ]
  },
  {
   "cell_type": "markdown",
   "metadata": {},
   "source": [
    "Run your custom model on at least the following:\n",
    "\n",
    "**Configuratons**:\n",
    "- `K=[32, 64, 128]` fixed with `L=3,6,9,12` varying per run.\n",
    "\n",
    "So 4 different runs in total. To clarify, each run `K` takes the value of an array with a three elements.\n",
    "\n",
    "If you want, you can add some extra runs following the same pattern.\n",
    "Try to see how deep a model you can train.\n",
    "\n",
    "**Naming runs**:\n",
    "Each run should be named `exp2_L{}_K{}-{}-{}-{}` where the braces are placeholders for the values. For example, the first run should be named `exp2_L3_K32-64-128`. "
   ]
  },
  {
   "cell_type": "markdown",
   "metadata": {},
   "source": [
    "**TODO**: Run the experiment on the above configuration with the `YourCodeNet` model. Make sure the result file names are as expected. Use the following blocks to display the results."
   ]
  },
  {
   "cell_type": "code",
   "execution_count": null,
   "metadata": {},
   "outputs": [],
   "source": [
    "plot_exp_results('exp2*.json')"
   ]
  },
  {
   "cell_type": "markdown",
   "metadata": {},
   "source": [
    "## Questions\n",
    "<a id=part3_4></a>"
   ]
  },
  {
   "cell_type": "markdown",
   "metadata": {},
   "source": [
    "**TODO** Answer the following questions. Write your answers in the appropriate variables in the module `hw2/answers.py`."
   ]
  },
  {
   "cell_type": "code",
   "execution_count": null,
   "metadata": {},
   "outputs": [],
   "source": [
    "from cs236781.answers import display_answer\n",
    "import hw2.answers"
   ]
  },
  {
   "cell_type": "markdown",
   "metadata": {},
   "source": [
    "### Question 1 \n",
    "\n",
    "Analyze your results from experiment 1.1. In particular,\n",
    "1.  Explain the effect of depth on the accuracy. What depth produces the best results and why do you think that's the case?\n",
    "1. Were there values of `L` for which the network wasn't trainable? what causes this? Suggest two things which may be done to resolve it at least partially."
   ]
  },
  {
   "cell_type": "code",
   "execution_count": null,
   "metadata": {},
   "outputs": [],
   "source": [
    "display_answer(hw2.answers.part3_q1)"
   ]
  },
  {
   "cell_type": "markdown",
   "metadata": {},
   "source": [
    "### Question 2 \n",
    "\n",
    "Analyze your results from experiment 1.2. In particular, compare to the results of experiment 1.1."
   ]
  },
  {
   "cell_type": "code",
   "execution_count": null,
   "metadata": {},
   "outputs": [],
   "source": [
    "display_answer(hw2.answers.part3_q2)"
   ]
  },
  {
   "cell_type": "markdown",
   "metadata": {},
   "source": [
    "### Question 3 \n",
    "\n",
    "Analyze your results from experiment 1.3."
   ]
  },
  {
   "cell_type": "code",
   "execution_count": null,
   "metadata": {},
   "outputs": [],
   "source": [
    "display_answer(hw2.answers.part3_q3)"
   ]
  },
  {
   "cell_type": "markdown",
   "metadata": {},
   "source": [
    "### Question 4\n",
    "\n",
    "Analyze your results from experiment 1.4. Compare to experiment 1.1 and 1.3."
   ]
  },
  {
   "cell_type": "code",
   "execution_count": null,
   "metadata": {},
   "outputs": [],
   "source": [
    "display_answer(hw2.answers.part3_q4)"
   ]
  },
  {
   "cell_type": "markdown",
   "metadata": {},
   "source": [
    "### Question 5\n",
    "\n",
    "1. Explain your modifications to the architecture which you implemented in the `YourCodeNet` class.\n",
    "2. Analyze the results of experiment 2. Compare to experiment 1."
   ]
  },
  {
   "cell_type": "code",
   "execution_count": null,
   "metadata": {},
   "outputs": [],
   "source": [
    "display_answer(hw2.answers.part3_q5)"
   ]
  }
 ],
 "metadata": {
  "kernelspec": {
   "display_name": "Python 3",
   "language": "python",
   "name": "python3"
  },
  "language_info": {
   "codemirror_mode": {
    "name": "ipython",
    "version": 3
   },
   "file_extension": ".py",
   "mimetype": "text/x-python",
   "name": "python",
   "nbconvert_exporter": "python",
   "pygments_lexer": "ipython3",
   "version": "3.7.4"
  }
 },
 "nbformat": 4,
 "nbformat_minor": 4
}
